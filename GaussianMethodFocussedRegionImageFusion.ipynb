{
  "nbformat": 4,
  "nbformat_minor": 0,
  "metadata": {
    "colab": {
      "provenance": [],
      "mount_file_id": "1KgV_Ba2Xi2PY3QUlWiT83JTgywjFFfvg",
      "authorship_tag": "ABX9TyNLs9+eU9Gx6W1l+jRq8qn5",
      "include_colab_link": true
    },
    "kernelspec": {
      "name": "python3",
      "display_name": "Python 3"
    },
    "language_info": {
      "name": "python"
    }
  },
  "cells": [
    {
      "cell_type": "markdown",
      "metadata": {
        "id": "view-in-github",
        "colab_type": "text"
      },
      "source": [
        "<a href=\"https://colab.research.google.com/github/nishJay/FocussedRegionsImageFusion/blob/main/GaussianMethodFocussedRegionImageFusion.ipynb\" target=\"_parent\"><img src=\"https://colab.research.google.com/assets/colab-badge.svg\" alt=\"Open In Colab\"/></a>"
      ]
    },
    {
      "cell_type": "code",
      "source": [
        "!apt-get -qq install -y build-essential\n",
        "!apt-get -qq install -y libopencv-dev\n"
      ],
      "metadata": {
        "id": "Sv_i9yaqrn71"
      },
      "execution_count": 10,
      "outputs": []
    },
    {
      "cell_type": "code",
      "source": [
        "%%writefile code.cpp\n",
        "\n",
        "#include <iostream>\n",
        "#include <opencv2/opencv.hpp>\n",
        "\n",
        "using namespace std;\n",
        "using namespace cv;\n",
        "\n",
        "// Function to create Gaussian pyramid\n",
        "void createGaussianPyramid(const Mat& inputImage, vector<Mat>& pyramid, int numOctaves) {\n",
        "    Mat currentImage = inputImage.clone();\n",
        "    pyramid.push_back(currentImage);\n",
        "\n",
        "    for (int octave = 1; octave <= numOctaves; octave++) {\n",
        "        Mat blurredImage;\n",
        "        GaussianBlur(currentImage, blurredImage, Size(5, 5), 1.6);\n",
        "\n",
        "        Mat downsampledImage;\n",
        "        pyrDown(blurredImage, downsampledImage);\n",
        "\n",
        "        currentImage = downsampledImage;\n",
        "        pyramid.push_back(currentImage);\n",
        "    }\n",
        "}\n",
        "\n",
        "// Function to create Laplacian pyramid from Gaussian pyramid\n",
        "void createLaplacianPyramid(const vector<Mat>& gaussianPyramid, vector<Mat>& laplacianPyramid) {\n",
        "    for (size_t i = 0; i < gaussianPyramid.size() - 1; i++) {\n",
        "        Mat expandedImage;\n",
        "        pyrUp(gaussianPyramid[i + 1], expandedImage, gaussianPyramid[i].size());\n",
        "\n",
        "        Mat laplacian;\n",
        "        subtract(gaussianPyramid[i], expandedImage, laplacian);\n",
        "        laplacianPyramid.push_back(laplacian);\n",
        "    }\n",
        "    laplacianPyramid.push_back(gaussianPyramid.back());\n",
        "}\n",
        "\n",
        "// Function to fuse base layers of the Gaussian pyramids\n",
        "Mat fuseBaseLayers(const Mat& baseLayer1, const Mat& baseLayer2, const Mat& saliencyMap) {\n",
        "    Mat fusedBase;\n",
        "    // Perform weighted average fusion based on saliency map\n",
        "    addWeighted(baseLayer1, 0.5, baseLayer2, 0.5, 0, fusedBase);\n",
        "    return fusedBase;\n",
        "}\n",
        "\n",
        "// Function to fuse detail layers of the Gaussian pyramids\n",
        "Mat fuseDetailLayers(const Mat& detailLayer1, const Mat& detailLayer2) {\n",
        "    Mat fusedDetail;\n",
        "    // Fuse detail layers by selecting higher gradients or contrast\n",
        "    Mat gradient1, gradient2;\n",
        "    Sobel(detailLayer1, gradient1, CV_32F, 1, 1);\n",
        "    Sobel(detailLayer2, gradient2, CV_32F, 1, 1);\n",
        "\n",
        "    double norm1 = norm(gradient1);\n",
        "    double norm2 = norm(gradient2);\n",
        "\n",
        "    if (norm1 > norm2)\n",
        "        fusedDetail = detailLayer1.clone();\n",
        "    else\n",
        "        fusedDetail = detailLayer2.clone();\n",
        "\n",
        "    return fusedDetail;\n",
        "}\n",
        "\n",
        "// Function to reconstruct fused pyramid\n",
        "Mat reconstructFusedPyramid(const vector<Mat>& fusedBaseLayers, const vector<Mat>& fusedDetailLayers) {\n",
        "    Mat currentImage = fusedBaseLayers.back();\n",
        "\n",
        "    for (int i = fusedBaseLayers.size() - 2; i >= 0; i--) {\n",
        "        Mat expandedImage;\n",
        "        pyrUp(currentImage, expandedImage, fusedBaseLayers[i].size());\n",
        "\n",
        "        Mat fusedImage;\n",
        "        add(fusedBaseLayers[i], expandedImage, fusedImage);\n",
        "        currentImage = fusedImage + fusedDetailLayers[i];\n",
        "    }\n",
        "\n",
        "    return currentImage;\n",
        "}\n",
        "\n",
        "int main() {\n",
        "    // Load the input images - IR and VIS\n",
        "    Mat infraredImage = imread(\"/content/drive/MyDrive/dataset (1)/multi-focus-image-fusion-dataset/source03_1.tif\");\n",
        "    Mat visibleImage = imread(\"/content/drive/MyDrive/dataset (1)/multi-focus-image-fusion-dataset/source03_2.tif\");\n",
        "\n",
        "    // Perform image fusion using Gaussian pyramid\n",
        "    int numOctaves = log(min(infraredImage.cols, infraredImage.rows)) / log(2) - 2;\n",
        "\n",
        "    // Create Gaussian pyramids for both images\n",
        "    vector<Mat> infraredPyramid, visiblePyramid;\n",
        "    createGaussianPyramid(infraredImage, infraredPyramid, numOctaves);\n",
        "    createGaussianPyramid(visibleImage, visiblePyramid, numOctaves);\n",
        "\n",
        "    // Create Laplacian pyramids from the Gaussian pyramids\n",
        "    vector<Mat> infraredLaplacian, visibleLaplacian;\n",
        "    createLaplacianPyramid(infraredPyramid, infraredLaplacian);\n",
        "    createLaplacianPyramid(visiblePyramid, visibleLaplacian);\n",
        "\n",
        "    // Fuse base layers of the Gaussian pyramids\n",
        "    vector<Mat> fusedBaseLayers;\n",
        "    for (size_t i = 0; i < infraredLaplacian.size(); i++) {\n",
        "        Mat fusedBase = fuseBaseLayers(infraredLaplacian[i], visibleLaplacian[i], infraredImage);\n",
        "        fusedBaseLayers.push_back(fusedBase);\n",
        "    }\n",
        "\n",
        "    // Fuse detail layers of the Gaussian pyramids\n",
        "    vector<Mat> fusedDetailLayers;\n",
        "    for (size_t i = 0; i < infraredLaplacian.size(); i++) {\n",
        "        Mat fusedDetail = fuseDetailLayers(infraredLaplacian[i], visibleLaplacian[i]);\n",
        "        fusedDetailLayers.push_back(fusedDetail);\n",
        "    }\n",
        "\n",
        "    // Reconstruct the fused pyramid\n",
        "    Mat fusedImage = reconstructFusedPyramid(fusedBaseLayers, fusedDetailLayers);\n",
        "\n",
        "    // Display the final fused image\n",
        "    // Save the processed image\n",
        "    cv::imwrite(\"/content/image.jpg\", fusedImage);\n",
        "\n",
        "    waitKey(0);\n",
        "\n",
        "    return 0;\n",
        "}\n",
        "\n",
        "\n"
      ],
      "metadata": {
        "colab": {
          "base_uri": "https://localhost:8080/"
        },
        "id": "Bt5LiQBPd20S",
        "outputId": "878568bc-a3a4-4556-e03d-b47327e62d11"
      },
      "execution_count": 34,
      "outputs": [
        {
          "output_type": "stream",
          "name": "stdout",
          "text": [
            "Overwriting code.cpp\n"
          ]
        }
      ]
    },
    {
      "cell_type": "code",
      "source": [
        "!g++  /content/code.cpp -o /content/code `pkg-config --cflags --libs opencv4`\n"
      ],
      "metadata": {
        "id": "FN6ORzrbd-Gk"
      },
      "execution_count": 35,
      "outputs": []
    },
    {
      "cell_type": "code",
      "source": [
        "!/content/code\n"
      ],
      "metadata": {
        "id": "5PmkQlEmsqEq"
      },
      "execution_count": 36,
      "outputs": []
    }
  ]
}